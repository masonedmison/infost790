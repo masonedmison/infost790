{
 "cells": [
  {
   "cell_type": "code",
   "execution_count": 29,
   "metadata": {},
   "outputs": [],
   "source": [
    "import pandas as pd\n",
    "import matplotlib.pyplot as plt\n",
    "%matplotlib inline\n",
    "import json"
   ]
  },
  {
   "cell_type": "code",
   "execution_count": 2,
   "metadata": {},
   "outputs": [],
   "source": [
    "crime = pd.read_csv('/home/medmison690/Documents/wibr.csv')\n",
    "crime = crime[crime.ReportedYear > 2013]  # get past 4 years of crimes\n",
    "crime['CrimeType'] = ''"
   ]
  },
  {
   "cell_type": "code",
   "execution_count": 3,
   "metadata": {
    "scrolled": true
   },
   "outputs": [
    {
     "data": {
      "text/plain": [
       "Index(['IncidentNum', 'ReportedDateTime', 'ReportedYear', 'ReportedMonth',\n",
       "       'Location', 'WeaponUsed', 'ALD', 'NSP', 'POLICE', 'TRACT', 'WARD',\n",
       "       'ZIP', 'RoughX', 'RoughY', 'Arson', 'AssaultOffense', 'Burglary',\n",
       "       'CriminalDamage', 'Homicide', 'LockedVehicle', 'Robbery', 'SexOffense',\n",
       "       'Theft', 'VehicleTheft', 'CrimeType'],\n",
       "      dtype='object')"
      ]
     },
     "execution_count": 3,
     "metadata": {},
     "output_type": "execute_result"
    }
   ],
   "source": [
    "crime.columns"
   ]
  },
  {
   "cell_type": "code",
   "execution_count": 4,
   "metadata": {},
   "outputs": [],
   "source": [
    "crime_type_cols = ['Arson', 'AssaultOffense', 'Burglary',\n",
    "       'CriminalDamage', 'Homicide', 'LockedVehicle', 'Robbery', 'SexOffense',\n",
    "       'Theft', 'VehicleTheft']"
   ]
  },
  {
   "cell_type": "code",
   "execution_count": 5,
   "metadata": {},
   "outputs": [
    {
     "name": "stderr",
     "output_type": "stream",
     "text": [
      "/home/medmison690/pyprojects/infost790/venv/lib/python3.6/site-packages/pandas/core/indexing.py:205: SettingWithCopyWarning: \n",
      "A value is trying to be set on a copy of a slice from a DataFrame\n",
      "\n",
      "See the caveats in the documentation: http://pandas.pydata.org/pandas-docs/stable/user_guide/indexing.html#returning-a-view-versus-a-copy\n",
      "  self._setitem_with_indexer(indexer, value)\n"
     ]
    }
   ],
   "source": [
    "# crime cols that have boolean value (1 or 0)\n",
    "crime_type_cols = ['Arson', 'AssaultOffense', 'Burglary',\n",
    "       'CriminalDamage', 'Homicide', 'LockedVehicle', 'Robbery', 'SexOffense',\n",
    "       'Theft', 'VehicleTheft']\n",
    "\n",
    "def assign_category(df):\n",
    "    \"\"\"assign caterory to CrimeType column based off of boolean crime type columns\"\"\"\n",
    "    for ct in crime_type_cols:\n",
    "        sub = df[df[f'{ct}']==1]\n",
    "        df.CrimeType.iloc[sub.index] = ct\n",
    "\n",
    "assign_category(crime)        "
   ]
  },
  {
   "cell_type": "code",
   "execution_count": 6,
   "metadata": {},
   "outputs": [],
   "source": [
    "grouped = crime.groupby('CrimeType')"
   ]
  },
  {
   "cell_type": "code",
   "execution_count": 7,
   "metadata": {},
   "outputs": [
    {
     "data": {
      "text/plain": [
       "'AssaultOffense'"
      ]
     },
     "execution_count": 7,
     "metadata": {},
     "output_type": "execute_result"
    }
   ],
   "source": [
    "# most common type of crime\n",
    "crime.CrimeType.value_counts().index[0]"
   ]
  },
  {
   "cell_type": "code",
   "execution_count": 8,
   "metadata": {},
   "outputs": [
    {
     "data": {
      "text/plain": [
       "'VehicleTheft'"
      ]
     },
     "execution_count": 8,
     "metadata": {},
     "output_type": "execute_result"
    }
   ],
   "source": [
    "# most crimes occuring in zip code\n",
    "max(crime.ZIP.unique())\n",
    "# most common crime where the most crimes occur (by zip)\n",
    "max(crime[crime.ZIP == 53295.].CrimeType)"
   ]
  },
  {
   "cell_type": "code",
   "execution_count": 9,
   "metadata": {},
   "outputs": [
    {
     "data": {
      "text/plain": [
       "225856"
      ]
     },
     "execution_count": 9,
     "metadata": {},
     "output_type": "execute_result"
    }
   ],
   "source": [
    "len(crime.CrimeType)"
   ]
  },
  {
   "cell_type": "code",
   "execution_count": 66,
   "metadata": {},
   "outputs": [],
   "source": [
    "ff_df = pd.read_csv('/home/medmison690/pyprojects/infost790/processing/data/gen_pop_house_char_byZip/gen_pop_house_char.csv')"
   ]
  },
  {
   "cell_type": "code",
   "execution_count": 80,
   "metadata": {},
   "outputs": [
    {
     "name": "stdout",
     "output_type": "stream",
     "text": [
      "\n"
     ]
    }
   ],
   "source": [
    "# Zip data for all of Wisconsin\n",
    "ff_df = pd.read_csv('/home/medmison690/pyprojects/infost790/processing/data/gen_pop_house_char_byZip/gen_pop_house_char.csv')\n",
    "zip_meta = pd.read_csv('/home/medmison690/pyprojects/infost790/processing/data/gen_pop_house_char_byZip/gen_pop_house_char_metadata.csv')\n",
    "# Milwaukee Zip Codes\n",
    "ZIPS_ = json.load(open('/home/medmison690/pyprojects/infost790/processing/mappings/zip_square_miles.json')).keys()\n",
    "# get relevant Milwaukee Zip Codes\n",
    "zip_col = ff_df['GEO.display-label']\n",
    "indices = [zip_col[zip_col==f'ZCTA5 {z.strip()}'].index[0] for z in ZIPS_]\n",
    "rel_zips = ff_df.iloc[indices,:]\n",
    "rel_zips.reset_index()\n",
    "####\n",
    "print()  # just so df doesn't print..."
   ]
  }
 ],
 "metadata": {
  "kernelspec": {
   "display_name": "Python 3",
   "language": "python",
   "name": "python3"
  },
  "language_info": {
   "codemirror_mode": {
    "name": "ipython",
    "version": 3
   },
   "file_extension": ".py",
   "mimetype": "text/x-python",
   "name": "python",
   "nbconvert_exporter": "python",
   "pygments_lexer": "ipython3",
   "version": "3.6.8"
  }
 },
 "nbformat": 4,
 "nbformat_minor": 2
}
